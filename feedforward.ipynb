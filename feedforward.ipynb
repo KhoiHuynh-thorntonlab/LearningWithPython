{
 "cells": [
  {
   "cell_type": "code",
   "execution_count": 1,
   "metadata": {
    "collapsed": false
   },
   "outputs": [],
   "source": [
    "import tensorflow as tf\n",
    "import numpy as np\n",
    "import matplotlib\n",
    "matplotlib.use('Agg')\n",
    "import matplotlib.pyplot as plt\n",
    "%matplotlib inline"
   ]
  },
  {
   "cell_type": "code",
   "execution_count": 2,
   "metadata": {
    "collapsed": false
   },
   "outputs": [
    {
     "name": "stdout",
     "output_type": "stream",
     "text": [
      "(100000, 29)\n"
     ]
    }
   ],
   "source": [
    "higgs_small = np.load('/Users/linggeli/Other/workshop/higgs_small.npy')\n",
    "print(higgs_small.shape)"
   ]
  },
  {
   "cell_type": "code",
   "execution_count": 3,
   "metadata": {
    "collapsed": false
   },
   "outputs": [],
   "source": [
    "dataX = higgs_small[:, 1:]\n",
    "dataY = higgs_small[:, 0].reshape((100000, 1))"
   ]
  },
  {
   "cell_type": "code",
   "execution_count": 4,
   "metadata": {
    "collapsed": false
   },
   "outputs": [
    {
     "name": "stdout",
     "output_type": "stream",
     "text": [
      "(100000, 28)\n"
     ]
    }
   ],
   "source": [
    "N, D = dataX.shape\n",
    "print(N, D)"
   ]
  },
  {
   "cell_type": "code",
   "execution_count": 5,
   "metadata": {
    "collapsed": true
   },
   "outputs": [],
   "source": [
    "from sklearn import preprocessing"
   ]
  },
  {
   "cell_type": "code",
   "execution_count": 6,
   "metadata": {
    "collapsed": true
   },
   "outputs": [],
   "source": [
    "dataX = preprocessing.scale(dataX)"
   ]
  },
  {
   "cell_type": "markdown",
   "metadata": {},
   "source": [
    "Split the data into training and test sets."
   ]
  },
  {
   "cell_type": "code",
   "execution_count": 7,
   "metadata": {
    "collapsed": false
   },
   "outputs": [],
   "source": [
    "train_size = int(N * 0.7)\n",
    "test_size = N - train_size\n",
    "rand_ind = np.random.permutation(N) # shuffle the row indices\n",
    "train_ind = rand_ind[:train_size]\n",
    "test_ind = rand_ind[train_size:]"
   ]
  },
  {
   "cell_type": "code",
   "execution_count": 8,
   "metadata": {
    "collapsed": false
   },
   "outputs": [],
   "source": [
    "X_train = dataX[train_ind, :]\n",
    "X_test = dataX[test_ind, :]\n",
    "y_train = dataY[train_ind, :]\n",
    "y_test = dataY[test_ind, :]"
   ]
  },
  {
   "cell_type": "code",
   "execution_count": 9,
   "metadata": {
    "collapsed": false
   },
   "outputs": [
    {
     "name": "stdout",
     "output_type": "stream",
     "text": [
      "(70000, 1)\n",
      "(30000, 1)\n"
     ]
    }
   ],
   "source": [
    "print(y_train.shape)\n",
    "print(y_test.shape)"
   ]
  },
  {
   "cell_type": "code",
   "execution_count": 10,
   "metadata": {
    "collapsed": true
   },
   "outputs": [],
   "source": [
    "X = tf.placeholder(\"float\", shape=[None, D])\n",
    "y = tf.placeholder(\"float\", shape=[None, 1])"
   ]
  },
  {
   "cell_type": "markdown",
   "metadata": {},
   "source": [
    "i. How would you change the activation function?  \n",
    "ii. How would you change the number of neurons?  \n",
    "iii. How would you add more layers?  \n",
    "iv. How would you use drop-out or weight penalty for regularization?"
   ]
  },
  {
   "cell_type": "code",
   "execution_count": 11,
   "metadata": {
    "collapsed": false
   },
   "outputs": [],
   "source": [
    "# first hidden layer\n",
    "W1 = tf.Variable(tf.random_normal([D, 50], stddev=1.0))\n",
    "b1 = tf.Variable(tf.random_normal([1, 50], stddev=1.0))\n",
    "h1 = tf.nn.sigmoid(tf.matmul(X, W1) + b1)\n",
    "\n",
    "W2 = tf.Variable(tf.random_normal([50, 20], stddev=1.0))\n",
    "b2 = tf.Variable(tf.random_normal([1, 20], stddev=1.0))\n",
    "h2 = tf.nn.sigmoid(tf.matmul(h1, W2) + b2)\n",
    "\n",
    "W3 = tf.Variable(tf.random_normal([20, 20], stddev=1.0))\n",
    "b3 = tf.Variable(tf.random_normal([1, 20], stddev=1.0))\n",
    "h3 = tf.nn.sigmoid(tf.matmul(h2, W3) + b3)\n",
    "\n",
    "W4 = tf.Variable(tf.random_normal([20, 5], stddev=1.0))\n",
    "b4 = tf.Variable(tf.random_normal([1, 5], stddev=1.0))\n",
    "h4 = tf.nn.sigmoid(tf.matmul(h3, W4) + b4)\n",
    "\n",
    "#d = tf.nn.dropout(h2, 0.5)\n",
    "\n",
    "# output layer\n",
    "W5 = tf.Variable(tf.random_normal([5, 1], stddev=1.0))\n",
    "b5 = tf.Variable(tf.random_normal([1, 1], stddev=1.0))\n",
    "yhat = tf.nn.sigmoid(tf.matmul(h4, W5) + b5)"
   ]
  },
  {
   "cell_type": "markdown",
   "metadata": {},
   "source": [
    "Binary classification loss function"
   ]
  },
  {
   "cell_type": "code",
   "execution_count": 12,
   "metadata": {
    "collapsed": false
   },
   "outputs": [],
   "source": [
    "loss = tf.reduce_mean(tf.nn.sigmoid_cross_entropy_with_logits(labels=y, logits=yhat))"
   ]
  },
  {
   "cell_type": "code",
   "execution_count": 13,
   "metadata": {
    "collapsed": true
   },
   "outputs": [],
   "source": [
    "def accuracy(y_true, y_pred):\n",
    "    \"\"\"\n",
    "    Calculate classification accuracy.\n",
    "    \n",
    "    Args\n",
    "        y_true: (2d numpy array) [n_example, 1]\n",
    "        y_pred: (2d numpy array) [n_example, 1]\n",
    "    \"\"\"\n",
    "    return(np.mean(y_true[:, 0] == (y_pred[:, 0] > 0.5)))"
   ]
  },
  {
   "cell_type": "markdown",
   "metadata": {},
   "source": [
    "Model training"
   ]
  },
  {
   "cell_type": "code",
   "execution_count": 14,
   "metadata": {
    "collapsed": true
   },
   "outputs": [],
   "source": [
    "batch_size = 20\n",
    "step_size = 1.0\n",
    "\n",
    "n_epochs = 50\n",
    "n_batch = y_train.shape[0] / batch_size"
   ]
  },
  {
   "cell_type": "code",
   "execution_count": 15,
   "metadata": {
    "collapsed": true
   },
   "outputs": [],
   "source": [
    "updates = tf.train.GradientDescentOptimizer(step_size).minimize(loss)"
   ]
  },
  {
   "cell_type": "code",
   "execution_count": 16,
   "metadata": {
    "collapsed": false,
    "scrolled": true
   },
   "outputs": [],
   "source": [
    "train_acc = []\n",
    "test_acc = []\n",
    "test_pred = 0\n",
    "with tf.Session() as sess:\n",
    "    tf.global_variables_initializer().run()\n",
    "    for k in range(n_epochs):\n",
    "        for i in range(0, n_batch):\n",
    "            # generate batch data\n",
    "            offset = (i * batch_size) % (y_train.shape[0] - batch_size)\n",
    "            batch_data = X_train[offset:(offset + batch_size), :]\n",
    "            batch_labels = y_train[offset:(offset + batch_size), :]\n",
    "            # stochastic gradient descent\n",
    "            sess.run(updates, feed_dict={X: batch_data, y: batch_labels})\n",
    "        train_pred = sess.run(yhat, feed_dict={X: X_train})\n",
    "        test_pred = sess.run(yhat, feed_dict={X: X_test})\n",
    "        train_acc.append(accuracy(y_train, train_pred))\n",
    "        test_acc.append(accuracy(y_test, test_pred))"
   ]
  },
  {
   "cell_type": "code",
   "execution_count": 17,
   "metadata": {
    "collapsed": false
   },
   "outputs": [
    {
     "data": {
      "image/png": "[encoded data removed]",
      "text/plain": [
       "<matplotlib.figure.Figure at 0x127a148d0>"
      ]
     },
     "metadata": {},
     "output_type": "display_data"
    }
   ],
   "source": [
    "fig = plt.figure(figsize=(6, 4))\n",
    "plt.plot(train_acc, c='blue')\n",
    "plt.plot(test_acc, c='green')\n",
    "plt.xlabel('Epoch')\n",
    "plt.ylabel('Accuracy')\n",
    "plt.show()"
   ]
  },
  {
   "cell_type": "code",
   "execution_count": 18,
   "metadata": {
    "collapsed": true
   },
   "outputs": [],
   "source": [
    "from sklearn import metrics"
   ]
  },
  {
   "cell_type": "code",
   "execution_count": 19,
   "metadata": {
    "collapsed": false
   },
   "outputs": [],
   "source": [
    "fpr, tpr, thresholds = metrics.roc_curve(y_test[:, 0], test_pred[:, 0], pos_label=1)"
   ]
  },
  {
   "cell_type": "code",
   "execution_count": 20,
   "metadata": {
    "collapsed": false
   },
   "outputs": [
    {
     "name": "stdout",
     "output_type": "stream",
     "text": [
      "0.747637974754\n"
     ]
    }
   ],
   "source": [
    "print(metrics.auc(fpr, tpr))"
   ]
  },
  {
   "cell_type": "code",
   "execution_count": 21,
   "metadata": {
    "collapsed": false
   },
   "outputs": [
    {
     "data": {
      "image/png": "[encoded data removed]",
      "text/plain": [
       "<matplotlib.figure.Figure at 0x127d90cd0>"
      ]
     },
     "metadata": {},
     "output_type": "display_data"
    }
   ],
   "source": [
    "fig = plt.figure(figsize=(6, 4))\n",
    "plt.plot(fpr, tpr, color='darkorange')\n",
    "plt.plot([0, 1], [0, 1], color='navy', linestyle='--')\n",
    "plt.xlim([0.0, 1.0])\n",
    "plt.ylim([0.0, 1.05])\n",
    "plt.xlabel('False Positive Rate')\n",
    "plt.ylabel('True Positive Rate')\n",
    "plt.title('Receiver operating characteristic')\n",
    "plt.show()"
   ]
  },
  {
   "cell_type": "code",
   "execution_count": null,
   "metadata": {
    "collapsed": true
   },
   "outputs": [],
   "source": []
  }
 ],
 "metadata": {
  "anaconda-cloud": {},
  "kernelspec": {
   "display_name": "Python [conda env:tensorflow]",
   "language": "python",
   "name": "conda-env-tensorflow-py"
  },
  "language_info": {
   "codemirror_mode": {
    "name": "ipython",
    "version": 2
   },
   "file_extension": ".py",
   "mimetype": "text/x-python",
   "name": "python",
   "nbconvert_exporter": "python",
   "pygments_lexer": "ipython2",
   "version": "2.7.13"
  }
 },
 "nbformat": 4,
 "nbformat_minor": 1
}
